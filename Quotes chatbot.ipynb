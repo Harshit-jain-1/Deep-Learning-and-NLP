{
 "cells": [
  {
   "cell_type": "code",
   "execution_count": 3,
   "id": "ea4356ec-ec26-4233-a461-419ec3689256",
   "metadata": {},
   "outputs": [
    {
     "name": "stdout",
     "output_type": "stream",
     "text": [
      "Requirement already satisfied: requests in e:\\anaconda\\lib\\site-packages (2.32.3)\n",
      "Requirement already satisfied: nltk in e:\\anaconda\\lib\\site-packages (3.9.1)\n",
      "Requirement already satisfied: charset-normalizer<4,>=2 in e:\\anaconda\\lib\\site-packages (from requests) (3.3.2)\n",
      "Requirement already satisfied: idna<4,>=2.5 in e:\\anaconda\\lib\\site-packages (from requests) (3.7)\n",
      "Requirement already satisfied: urllib3<3,>=1.21.1 in e:\\anaconda\\lib\\site-packages (from requests) (2.2.3)\n",
      "Requirement already satisfied: certifi>=2017.4.17 in e:\\anaconda\\lib\\site-packages (from requests) (2024.12.14)\n",
      "Requirement already satisfied: click in e:\\anaconda\\lib\\site-packages (from nltk) (8.1.7)\n",
      "Requirement already satisfied: joblib in e:\\anaconda\\lib\\site-packages (from nltk) (1.4.2)\n",
      "Requirement already satisfied: regex>=2021.8.3 in e:\\anaconda\\lib\\site-packages (from nltk) (2024.9.11)\n",
      "Requirement already satisfied: tqdm in e:\\anaconda\\lib\\site-packages (from nltk) (4.66.5)\n",
      "Requirement already satisfied: colorama in e:\\anaconda\\lib\\site-packages (from click->nltk) (0.4.6)\n"
     ]
    }
   ],
   "source": [
    "!pip install requests nltk"
   ]
  },
  {
   "cell_type": "code",
   "execution_count": 7,
   "id": "99a02b5b-0e29-4a18-8fa9-b35e54a29946",
   "metadata": {},
   "outputs": [
    {
     "name": "stderr",
     "output_type": "stream",
     "text": [
      "[nltk_data] Downloading package punkt to C:\\Users\\MY\n",
      "[nltk_data]     DELL\\AppData\\Roaming\\nltk_data...\n",
      "[nltk_data]   Package punkt is already up-to-date!\n"
     ]
    },
    {
     "name": "stdout",
     "output_type": "stream",
     "text": [
      "Chatbot: Hello! Type 'quit' to exit.\n"
     ]
    },
    {
     "name": "stdin",
     "output_type": "stream",
     "text": [
      "You:  quotes\n"
     ]
    },
    {
     "name": "stdout",
     "output_type": "stream",
     "text": [
      "Chatbot: The only way to predict the future is to create it. – Peter Drucker\n",
      "Chatbot: For more quotes, you can visit Google: https://www.google.com/search?q=quotes\n"
     ]
    },
    {
     "name": "stdin",
     "output_type": "stream",
     "text": [
      "You:  Motivational Quotes\n"
     ]
    },
    {
     "name": "stdout",
     "output_type": "stream",
     "text": [
      "Chatbot: The only place where success comes before work is in the dictionary. – Vidal Sassoon\n",
      "Chatbot: For more quotes, you can visit Google: https://www.google.com/search?q=quotes\n"
     ]
    },
    {
     "name": "stdin",
     "output_type": "stream",
     "text": [
      "You:  more\n"
     ]
    },
    {
     "name": "stdout",
     "output_type": "stream",
     "text": [
      "Chatbot: Sorry, I didn’t quite understand that. Can you rephrase it?\n"
     ]
    },
    {
     "name": "stdin",
     "output_type": "stream",
     "text": [
      "You:  Motivational Quotes\n"
     ]
    },
    {
     "name": "stdout",
     "output_type": "stream",
     "text": [
      "Chatbot: The journey of a thousand miles begins with one step. – Lao Tzu\n",
      "Chatbot: For more quotes, you can visit Google: https://www.google.com/search?q=quotes\n"
     ]
    },
    {
     "name": "stdin",
     "output_type": "stream",
     "text": [
      "You:  Motivational Quotes\n"
     ]
    },
    {
     "name": "stdout",
     "output_type": "stream",
     "text": [
      "Chatbot: Success doesn’t just find you. You have to go out and get it. – Anonymous\n",
      "Chatbot: For more quotes, you can visit Google: https://www.google.com/search?q=quotes\n"
     ]
    },
    {
     "name": "stdin",
     "output_type": "stream",
     "text": [
      "You:  Motivational Quotes\n"
     ]
    },
    {
     "name": "stdout",
     "output_type": "stream",
     "text": [
      "Chatbot: There are no shortcuts to any place worth going. – Beverly Sills\n",
      "Chatbot: For more quotes, you can visit Google: https://www.google.com/search?q=quotes\n"
     ]
    },
    {
     "name": "stdin",
     "output_type": "stream",
     "text": [
      "You:  Motivational Quotes\n"
     ]
    },
    {
     "name": "stdout",
     "output_type": "stream",
     "text": [
      "Chatbot: Love is composed of a single soul inhabiting two bodies. – Aristotle\n",
      "Chatbot: For more quotes, you can visit Google: https://www.google.com/search?q=quotes\n"
     ]
    },
    {
     "name": "stdin",
     "output_type": "stream",
     "text": [
      "You:  Inspirational Quotes\n"
     ]
    },
    {
     "name": "stdout",
     "output_type": "stream",
     "text": [
      "Chatbot: To live a creative life, we must lose our fear of being wrong. – Joseph Chilton Pearce\n",
      "Chatbot: For more quotes, you can visit Google: https://www.google.com/search?q=quotes\n"
     ]
    },
    {
     "name": "stdin",
     "output_type": "stream",
     "text": [
      "You:  Inspirational Quotes\n"
     ]
    },
    {
     "name": "stdout",
     "output_type": "stream",
     "text": [
      "Chatbot: It does not matter how slowly you go, as long as you do not stop. – Confucius\n",
      "Chatbot: For more quotes, you can visit Google: https://www.google.com/search?q=quotes\n"
     ]
    },
    {
     "name": "stdin",
     "output_type": "stream",
     "text": [
      "You:  Inspirational Quotes\n"
     ]
    },
    {
     "name": "stdout",
     "output_type": "stream",
     "text": [
      "Chatbot: What you get by achieving your goals is not as important as what you become by achieving your goals. – Zig Ziglar\n",
      "Chatbot: For more quotes, you can visit Google: https://www.google.com/search?q=quotes\n"
     ]
    },
    {
     "name": "stdin",
     "output_type": "stream",
     "text": [
      "You:  Inspirational Quotes\n"
     ]
    },
    {
     "name": "stdout",
     "output_type": "stream",
     "text": [
      "Chatbot: The only way to do great work is to love what you do. – Steve Jobs\n",
      "Chatbot: For more quotes, you can visit Google: https://www.google.com/search?q=quotes\n"
     ]
    },
    {
     "name": "stdin",
     "output_type": "stream",
     "text": [
      "You:  bye\n"
     ]
    },
    {
     "name": "stdout",
     "output_type": "stream",
     "text": [
      "Chatbot: See you later!\n"
     ]
    },
    {
     "name": "stdin",
     "output_type": "stream",
     "text": [
      "You:  quit\n"
     ]
    },
    {
     "name": "stdout",
     "output_type": "stream",
     "text": [
      "Chatbot: Goodbye! Have a nice day!\n"
     ]
    }
   ],
   "source": [
    "import random\n",
    "import nltk\n",
    "from nltk.chat.util import Chat, reflections\n",
    "\n",
    "# Ensure you have the necessary NLTK data\n",
    "nltk.download('punkt')\n",
    "\n",
    "# Define the chatbot's patterns and responses\n",
    "pairs = [\n",
    "    (r'hi|hello|hey', ['Hello!', 'Hi there!', 'Hey! How can I assist you today?']),\n",
    "    (r'how are you?', ['I am doing great, thank you for asking!', 'I am just a chatbot, but I am doing well.']),\n",
    "    (r'quote', ['Sure! Here’s a random quote for you: %s']),\n",
    "    (r'bye|goodbye', ['Goodbye! Have a great day!', 'See you later!']),\n",
    "    (r'(.*)', ['Sorry, I didn’t quite understand that. Can you rephrase it?']),\n",
    "]\n",
    "\n",
    "# Create the chatbot\n",
    "chatbot = Chat(pairs, reflections)\n",
    "\n",
    "# Define a list of quotes\n",
    "quotes = [\n",
    "    \"The only limit to our realization of tomorrow is our doubts of today. - Franklin D. Roosevelt\",\n",
    "    \"Do not wait to strike till the iron is hot, but make it hot by striking. - William Butler Yeats\",\n",
    "    \"The future belongs to those who believe in the beauty of their dreams. - Eleanor Roosevelt\",\n",
    "    \"It does not matter how slowly you go as long as you do not stop. - Confucius\",\n",
    "    \"Success is not final, failure is not fatal: It is the courage to continue that counts. - Winston S. Churchill\",\n",
    "    # Motivational Quotes\n",
    "    \"The only way to do great work is to love what you do. – Steve Jobs\",\n",
    "    \"Believe you can and you're halfway there. – Theodore Roosevelt\",\n",
    "    \"Hardships often prepare ordinary people for an extraordinary destiny. – C.S. Lewis\",\n",
    "    \"The only way to do great work is to love what you do. – Steve Jobs\", \n",
    "    \"Success is not final, failure is not fatal: It is the courage to continue that counts. – Winston Churchill\",\n",
    "    \"The future belongs to those who believe in the beauty of their dreams. – Eleanor Roosevelt\",\n",
    "    \"It always seems impossible until it’s done. – Nelson Mandela\",\n",
    "    \"The best time to plant a tree was 20 years ago. The second best time is now. – Chinese Proverb\",\n",
    "    \"Do one thing every day that scares you. – Eleanor Roosevelt\",\n",
    "    \"Don’t watch the clock; do what it does. Keep going. – Sam Levenson\",\n",
    "    \"Everything you’ve ever wanted is on the other side of fear. – George Addair\",\n",
    "    \"The only limit to our realization of tomorrow is our doubts of today. – Franklin D. Roosevelt\",\n",
    "    \"The journey of a thousand miles begins with one step. – Lao Tzu\",\n",
    "    \"You are never too old to set another goal or to dream a new dream. – C.S. Lewis\",\n",
    "    \"Don’t wait. The time will never be just right. – Napoleon Hill\",\n",
    "    \"If you can dream it, you can do it. – Walt Disney\",\n",
    "    \"Everything you can imagine is real. – Pablo Picasso\",\n",
    "    \"Success is not the key to happiness. Happiness is the key to success. – Albert Schweitzer\",\n",
    "    \"Opportunities don't happen, you create them. – Chris Grosser\",\n",
    "    \"The only way to achieve the impossible is to believe it is possible. – Charles Kingsleigh\",\n",
    "    \"You miss 100% of the shots you don't take. – Wayne Gretzky\",\n",
    "    \"If you want to lift yourself up, lift up someone else. – Booker T. Washington\",\n",
    "    \"The harder you work for something, the greater you’ll feel when you achieve it. – Anonymous\",  \n",
    "    \"Dream big and dare to fail. – Norman Vaughan\",\n",
    "    \"It does not matter how slowly you go as long as you do not stop. – Confucius\",\n",
    "    \"Success is the sum of small efforts, repeated day in and day out. – Robert Collier\",\n",
    "    \"Action is the foundational key to all success. – Pablo Picasso\",\n",
    "    \"The key to success is to start before you are ready. – Marie Forleo\",\n",
    "    \"There are no shortcuts to any place worth going. – Beverly Sills\",\n",
    "    \"Just don’t give up trying to do what you really want to do. – Ella Fitzgerald\",\n",
    "    \"Your time is limited, so don’t waste it living someone else’s life. – Steve Jobs\",\n",
    "    \"It always seems impossible until it’s done. – Nelson Mandela\",\n",
    "    \"The only place where success comes before work is in the dictionary. – Vidal Sassoon\",\n",
    "    \"Success is walking from failure to failure with no loss of enthusiasm. – Winston Churchill\",\n",
    "    \"You don’t have to be great to start, but you have to start to be great. – Zig Ziglar\",\n",
    "    \"We may encounter many defeats, but we must not be defeated. – Maya Angelou\",\n",
    "    \"If you want to achieve greatness stop asking for permission. – Anonymous\",\n",
    "    \"Learn from yesterday, live for today, hope for tomorrow. – Albert Einstein\",\n",
    "    \"Life is 10% what happens to us and 90% how we react to it. – Charles R. Swindoll\",\n",
    "    \"We can't help everyone, but everyone can help someone. – Ronald Reagan\",\n",
    "    \"Don’t limit your challenges. Challenge your limits. – Anonymous\",\n",
    "    \"Don't stop when you're tired. Stop when you're done. – Anonymous\",\n",
    "    \"Success is not in what you have, but who you are. – Bo Bennett\",\n",
    "    \"The best way to predict your future is to create it. – Abraham Lincoln\",\n",
    "    \"You’re braver than you believe, stronger than you seem, and smarter than you think. – A.A. Milne\",\n",
    "    \"Do not wait to strike till the iron is hot, but make it hot by striking. – William Butler Yeats\",\n",
    "    \"Doubt kills more dreams than failure ever will. – Suzy Kassem\",\n",
    "    \"A year from now you may wish you had started today. – Karen Lamb\",\n",
    "    \"If you don’t build your dream, someone else will hire you to help them build theirs. – Tony Gaskins\",\n",
    "    \"The secret of getting ahead is getting started. – Mark Twain\",\n",
    "    \"The road to success and the road to failure are almost exactly the same. – Colin R. Davis\",\n",
    "    # Inspirational Quotes\n",
    "    \"It always seems impossible until it’s done. – Nelson Mandela\",\n",
    "    \"The best time to plant a tree was 20 years ago. The second best time is now. – Chinese Proverb\",\n",
    "    # Love Quotes\n",
    "    \"Love is composed of a single soul inhabiting two bodies. – Aristotle\",\n",
    "    \"Where there is love there is life. – Mahatma Gandhi\",\n",
    "    # Funny Quotes\n",
    "    \"I’m writing a book. I’ve got the page numbers done. – Steven Wright\",\n",
    "    \"Behind every great man, there is a woman rolling her eyes. – Jim Carrey\",\n",
    "    # Life Quotes\n",
    "    \"In three words I can sum up everything I’ve learned about life: it goes on. – Robert Frost\",\n",
    "    \"Life is what happens when you're busy making other plans. – John Lennon\",\n",
    "    # Success Quotes\n",
    "    \"Success is not in what you have, but who you are. – Bo Bennett\",\n",
    "    \"Success usually comes to those who are too busy to be looking for it. – Henry David Thoreau\",\n",
    "    # Friendship Quotes\n",
    "    \"A friend is someone who knows all about you and still loves you. – Elbert Hubbard\",\n",
    "    \"Friendship is born at that moment when one person says to another, ‘What! You too? I thought I was the only one.’ – C.S. Lewis\",\n",
    "    # Wisdom Quotes\n",
    "    \"The only true wisdom is in knowing you know nothing. – Socrates\",\n",
    "    \"An investment in knowledge pays the best interest. – Benjamin Franklin\",\n",
    "    # Courage Quotes\n",
    "    \"Courage is not the absence of fear, but the triumph over it. – Nelson Mandela\",\n",
    "    \"It takes courage to grow up and become who you really are. – E.E. Cummings\"\n",
    "]\n",
    "\n",
    "# Function to get a random quote\n",
    "def get_random_quote():\n",
    "    return random.choice(quotes)\n",
    "\n",
    "# Start the chatbot and listen for user input\n",
    "def start_chat():\n",
    "    print(\"Chatbot: Hello! Type 'quit' to exit.\")\n",
    "    while True:\n",
    "        user_input = input(\"You: \")\n",
    "\n",
    "        if user_input.lower() == \"quit\":\n",
    "            print(\"Chatbot: Goodbye! Have a nice day!\")\n",
    "            break\n",
    "\n",
    "        # Check if the user wants a random quote\n",
    "        if \"quote\" in user_input.lower():\n",
    "            quote = get_random_quote()\n",
    "            print(\"Chatbot:\", quote)\n",
    "            print(\"Chatbot: For more quotes, you can visit Google: https://www.google.com/search?q=quotes\")\n",
    "        else:\n",
    "            response = chatbot.respond(user_input)\n",
    "            print(\"Chatbot:\", response)\n",
    "\n",
    "if __name__ == \"__main__\":\n",
    "    start_chat()"
   ]
  }
 ],
 "metadata": {
  "kernelspec": {
   "display_name": "Python [conda env:base] *",
   "language": "python",
   "name": "conda-base-py"
  },
  "language_info": {
   "codemirror_mode": {
    "name": "ipython",
    "version": 3
   },
   "file_extension": ".py",
   "mimetype": "text/x-python",
   "name": "python",
   "nbconvert_exporter": "python",
   "pygments_lexer": "ipython3",
   "version": "3.12.7"
  }
 },
 "nbformat": 4,
 "nbformat_minor": 5
}
